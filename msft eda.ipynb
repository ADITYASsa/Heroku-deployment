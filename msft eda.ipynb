{
 "cells": [
  {
   "cell_type": "markdown",
   "metadata": {},
   "source": [
    "# AUTHOR= ADITYA SONI"
   ]
  },
  {
   "cell_type": "code",
   "execution_count": 1,
   "metadata": {},
   "outputs": [],
   "source": [
    "import pandas as pd\n",
    "import numpy as np\n",
    "import matplotlib.pyplot as plt\n",
    "import seaborn as sns\n",
    "from datetime import datetime"
   ]
  },
  {
   "cell_type": "code",
   "execution_count": 2,
   "metadata": {},
   "outputs": [],
   "source": [
    "data=pd.read_csv(\"MSFT.txt\")"
   ]
  },
  {
   "cell_type": "code",
   "execution_count": 3,
   "metadata": {},
   "outputs": [
    {
     "data": {
      "text/html": [
       "<div>\n",
       "<style scoped>\n",
       "    .dataframe tbody tr th:only-of-type {\n",
       "        vertical-align: middle;\n",
       "    }\n",
       "\n",
       "    .dataframe tbody tr th {\n",
       "        vertical-align: top;\n",
       "    }\n",
       "\n",
       "    .dataframe thead th {\n",
       "        text-align: right;\n",
       "    }\n",
       "</style>\n",
       "<table border=\"1\" class=\"dataframe\">\n",
       "  <thead>\n",
       "    <tr style=\"text-align: right;\">\n",
       "      <th></th>\n",
       "      <th>Date</th>\n",
       "      <th>Open</th>\n",
       "      <th>High</th>\n",
       "      <th>Low</th>\n",
       "      <th>Close</th>\n",
       "      <th>Adj Close</th>\n",
       "      <th>Volume</th>\n",
       "    </tr>\n",
       "  </thead>\n",
       "  <tbody>\n",
       "    <tr>\n",
       "      <th>8852</th>\n",
       "      <td>2021-04-27</td>\n",
       "      <td>261.579987</td>\n",
       "      <td>263.190002</td>\n",
       "      <td>260.119995</td>\n",
       "      <td>261.970001</td>\n",
       "      <td>261.970001</td>\n",
       "      <td>31014200</td>\n",
       "    </tr>\n",
       "    <tr>\n",
       "      <th>8853</th>\n",
       "      <td>2021-04-28</td>\n",
       "      <td>256.079987</td>\n",
       "      <td>256.540009</td>\n",
       "      <td>252.949997</td>\n",
       "      <td>254.559998</td>\n",
       "      <td>254.559998</td>\n",
       "      <td>46903100</td>\n",
       "    </tr>\n",
       "    <tr>\n",
       "      <th>8854</th>\n",
       "      <td>2021-04-29</td>\n",
       "      <td>255.460007</td>\n",
       "      <td>256.100006</td>\n",
       "      <td>249.000000</td>\n",
       "      <td>252.509995</td>\n",
       "      <td>252.509995</td>\n",
       "      <td>40589000</td>\n",
       "    </tr>\n",
       "    <tr>\n",
       "      <th>8855</th>\n",
       "      <td>2021-04-30</td>\n",
       "      <td>249.740005</td>\n",
       "      <td>253.080002</td>\n",
       "      <td>249.600006</td>\n",
       "      <td>252.179993</td>\n",
       "      <td>252.179993</td>\n",
       "      <td>30929200</td>\n",
       "    </tr>\n",
       "    <tr>\n",
       "      <th>8856</th>\n",
       "      <td>2021-05-03</td>\n",
       "      <td>253.399994</td>\n",
       "      <td>254.350006</td>\n",
       "      <td>251.119995</td>\n",
       "      <td>251.860001</td>\n",
       "      <td>251.860001</td>\n",
       "      <td>19598900</td>\n",
       "    </tr>\n",
       "  </tbody>\n",
       "</table>\n",
       "</div>"
      ],
      "text/plain": [
       "            Date        Open        High         Low       Close   Adj Close  \\\n",
       "8852  2021-04-27  261.579987  263.190002  260.119995  261.970001  261.970001   \n",
       "8853  2021-04-28  256.079987  256.540009  252.949997  254.559998  254.559998   \n",
       "8854  2021-04-29  255.460007  256.100006  249.000000  252.509995  252.509995   \n",
       "8855  2021-04-30  249.740005  253.080002  249.600006  252.179993  252.179993   \n",
       "8856  2021-05-03  253.399994  254.350006  251.119995  251.860001  251.860001   \n",
       "\n",
       "        Volume  \n",
       "8852  31014200  \n",
       "8853  46903100  \n",
       "8854  40589000  \n",
       "8855  30929200  \n",
       "8856  19598900  "
      ]
     },
     "execution_count": 3,
     "metadata": {},
     "output_type": "execute_result"
    }
   ],
   "source": [
    "data.tail()"
   ]
  },
  {
   "cell_type": "code",
   "execution_count": 4,
   "metadata": {},
   "outputs": [
    {
     "data": {
      "text/html": [
       "<div>\n",
       "<style scoped>\n",
       "    .dataframe tbody tr th:only-of-type {\n",
       "        vertical-align: middle;\n",
       "    }\n",
       "\n",
       "    .dataframe tbody tr th {\n",
       "        vertical-align: top;\n",
       "    }\n",
       "\n",
       "    .dataframe thead th {\n",
       "        text-align: right;\n",
       "    }\n",
       "</style>\n",
       "<table border=\"1\" class=\"dataframe\">\n",
       "  <thead>\n",
       "    <tr style=\"text-align: right;\">\n",
       "      <th></th>\n",
       "      <th>Open</th>\n",
       "      <th>High</th>\n",
       "      <th>Low</th>\n",
       "      <th>Close</th>\n",
       "      <th>Adj Close</th>\n",
       "      <th>Volume</th>\n",
       "    </tr>\n",
       "  </thead>\n",
       "  <tbody>\n",
       "    <tr>\n",
       "      <th>count</th>\n",
       "      <td>8857.000000</td>\n",
       "      <td>8857.000000</td>\n",
       "      <td>8857.000000</td>\n",
       "      <td>8857.000000</td>\n",
       "      <td>8857.000000</td>\n",
       "      <td>8.857000e+03</td>\n",
       "    </tr>\n",
       "    <tr>\n",
       "      <th>mean</th>\n",
       "      <td>34.831233</td>\n",
       "      <td>35.209355</td>\n",
       "      <td>34.449657</td>\n",
       "      <td>34.840895</td>\n",
       "      <td>29.886536</td>\n",
       "      <td>5.953411e+07</td>\n",
       "    </tr>\n",
       "    <tr>\n",
       "      <th>std</th>\n",
       "      <td>44.060163</td>\n",
       "      <td>44.513443</td>\n",
       "      <td>43.597704</td>\n",
       "      <td>44.080986</td>\n",
       "      <td>44.195101</td>\n",
       "      <td>3.858121e+07</td>\n",
       "    </tr>\n",
       "    <tr>\n",
       "      <th>min</th>\n",
       "      <td>0.088542</td>\n",
       "      <td>0.092014</td>\n",
       "      <td>0.088542</td>\n",
       "      <td>0.090278</td>\n",
       "      <td>0.057340</td>\n",
       "      <td>2.304000e+06</td>\n",
       "    </tr>\n",
       "    <tr>\n",
       "      <th>25%</th>\n",
       "      <td>3.843750</td>\n",
       "      <td>3.875000</td>\n",
       "      <td>3.812500</td>\n",
       "      <td>3.851563</td>\n",
       "      <td>2.446323</td>\n",
       "      <td>3.559720e+07</td>\n",
       "    </tr>\n",
       "    <tr>\n",
       "      <th>50%</th>\n",
       "      <td>26.590000</td>\n",
       "      <td>26.879999</td>\n",
       "      <td>26.290001</td>\n",
       "      <td>26.590000</td>\n",
       "      <td>18.686628</td>\n",
       "      <td>5.269680e+07</td>\n",
       "    </tr>\n",
       "    <tr>\n",
       "      <th>75%</th>\n",
       "      <td>36.730000</td>\n",
       "      <td>37.000000</td>\n",
       "      <td>36.110001</td>\n",
       "      <td>36.660000</td>\n",
       "      <td>27.218300</td>\n",
       "      <td>7.339520e+07</td>\n",
       "    </tr>\n",
       "    <tr>\n",
       "      <th>max</th>\n",
       "      <td>261.660004</td>\n",
       "      <td>263.190002</td>\n",
       "      <td>260.170013</td>\n",
       "      <td>261.970001</td>\n",
       "      <td>261.970001</td>\n",
       "      <td>1.031789e+09</td>\n",
       "    </tr>\n",
       "  </tbody>\n",
       "</table>\n",
       "</div>"
      ],
      "text/plain": [
       "              Open         High          Low        Close    Adj Close  \\\n",
       "count  8857.000000  8857.000000  8857.000000  8857.000000  8857.000000   \n",
       "mean     34.831233    35.209355    34.449657    34.840895    29.886536   \n",
       "std      44.060163    44.513443    43.597704    44.080986    44.195101   \n",
       "min       0.088542     0.092014     0.088542     0.090278     0.057340   \n",
       "25%       3.843750     3.875000     3.812500     3.851563     2.446323   \n",
       "50%      26.590000    26.879999    26.290001    26.590000    18.686628   \n",
       "75%      36.730000    37.000000    36.110001    36.660000    27.218300   \n",
       "max     261.660004   263.190002   260.170013   261.970001   261.970001   \n",
       "\n",
       "             Volume  \n",
       "count  8.857000e+03  \n",
       "mean   5.953411e+07  \n",
       "std    3.858121e+07  \n",
       "min    2.304000e+06  \n",
       "25%    3.559720e+07  \n",
       "50%    5.269680e+07  \n",
       "75%    7.339520e+07  \n",
       "max    1.031789e+09  "
      ]
     },
     "execution_count": 4,
     "metadata": {},
     "output_type": "execute_result"
    }
   ],
   "source": [
    "data.describe()"
   ]
  },
  {
   "cell_type": "code",
   "execution_count": 5,
   "metadata": {},
   "outputs": [
    {
     "data": {
      "text/html": [
       "<div>\n",
       "<style scoped>\n",
       "    .dataframe tbody tr th:only-of-type {\n",
       "        vertical-align: middle;\n",
       "    }\n",
       "\n",
       "    .dataframe tbody tr th {\n",
       "        vertical-align: top;\n",
       "    }\n",
       "\n",
       "    .dataframe thead th {\n",
       "        text-align: right;\n",
       "    }\n",
       "</style>\n",
       "<table border=\"1\" class=\"dataframe\">\n",
       "  <thead>\n",
       "    <tr style=\"text-align: right;\">\n",
       "      <th></th>\n",
       "      <th>Open</th>\n",
       "      <th>High</th>\n",
       "      <th>Low</th>\n",
       "      <th>Close</th>\n",
       "      <th>Adj Close</th>\n",
       "      <th>Volume</th>\n",
       "    </tr>\n",
       "  </thead>\n",
       "  <tbody>\n",
       "    <tr>\n",
       "      <th>0</th>\n",
       "      <td>NaN</td>\n",
       "      <td>NaN</td>\n",
       "      <td>NaN</td>\n",
       "      <td>NaN</td>\n",
       "      <td>NaN</td>\n",
       "      <td>NaN</td>\n",
       "    </tr>\n",
       "    <tr>\n",
       "      <th>1</th>\n",
       "      <td>NaN</td>\n",
       "      <td>NaN</td>\n",
       "      <td>NaN</td>\n",
       "      <td>NaN</td>\n",
       "      <td>NaN</td>\n",
       "      <td>NaN</td>\n",
       "    </tr>\n",
       "    <tr>\n",
       "      <th>2</th>\n",
       "      <td>NaN</td>\n",
       "      <td>NaN</td>\n",
       "      <td>NaN</td>\n",
       "      <td>NaN</td>\n",
       "      <td>NaN</td>\n",
       "      <td>NaN</td>\n",
       "    </tr>\n",
       "    <tr>\n",
       "      <th>3</th>\n",
       "      <td>NaN</td>\n",
       "      <td>NaN</td>\n",
       "      <td>NaN</td>\n",
       "      <td>NaN</td>\n",
       "      <td>NaN</td>\n",
       "      <td>NaN</td>\n",
       "    </tr>\n",
       "    <tr>\n",
       "      <th>4</th>\n",
       "      <td>0.097743</td>\n",
       "      <td>0.102257</td>\n",
       "      <td>0.096528</td>\n",
       "      <td>0.099653</td>\n",
       "      <td>0.063294</td>\n",
       "      <td>317756160.0</td>\n",
       "    </tr>\n",
       "    <tr>\n",
       "      <th>...</th>\n",
       "      <td>...</td>\n",
       "      <td>...</td>\n",
       "      <td>...</td>\n",
       "      <td>...</td>\n",
       "      <td>...</td>\n",
       "      <td>...</td>\n",
       "    </tr>\n",
       "    <tr>\n",
       "      <th>8852</th>\n",
       "      <td>260.053998</td>\n",
       "      <td>261.920001</td>\n",
       "      <td>258.089999</td>\n",
       "      <td>260.483997</td>\n",
       "      <td>260.483997</td>\n",
       "      <td>24375340.0</td>\n",
       "    </tr>\n",
       "    <tr>\n",
       "      <th>8853</th>\n",
       "      <td>259.481995</td>\n",
       "      <td>261.092004</td>\n",
       "      <td>257.229999</td>\n",
       "      <td>259.279999</td>\n",
       "      <td>259.279999</td>\n",
       "      <td>28949880.0</td>\n",
       "    </tr>\n",
       "    <tr>\n",
       "      <th>8854</th>\n",
       "      <td>258.531998</td>\n",
       "      <td>259.956006</td>\n",
       "      <td>255.901999</td>\n",
       "      <td>258.347995</td>\n",
       "      <td>258.347995</td>\n",
       "      <td>31946440.0</td>\n",
       "    </tr>\n",
       "    <tr>\n",
       "      <th>8855</th>\n",
       "      <td>256.903998</td>\n",
       "      <td>258.270004</td>\n",
       "      <td>254.368002</td>\n",
       "      <td>256.553995</td>\n",
       "      <td>256.553995</td>\n",
       "      <td>33839760.0</td>\n",
       "    </tr>\n",
       "    <tr>\n",
       "      <th>8856</th>\n",
       "      <td>255.251996</td>\n",
       "      <td>256.652005</td>\n",
       "      <td>252.557999</td>\n",
       "      <td>254.615997</td>\n",
       "      <td>254.615997</td>\n",
       "      <td>33806880.0</td>\n",
       "    </tr>\n",
       "  </tbody>\n",
       "</table>\n",
       "<p>8857 rows × 6 columns</p>\n",
       "</div>"
      ],
      "text/plain": [
       "            Open        High         Low       Close   Adj Close       Volume\n",
       "0            NaN         NaN         NaN         NaN         NaN          NaN\n",
       "1            NaN         NaN         NaN         NaN         NaN          NaN\n",
       "2            NaN         NaN         NaN         NaN         NaN          NaN\n",
       "3            NaN         NaN         NaN         NaN         NaN          NaN\n",
       "4       0.097743    0.102257    0.096528    0.099653    0.063294  317756160.0\n",
       "...          ...         ...         ...         ...         ...          ...\n",
       "8852  260.053998  261.920001  258.089999  260.483997  260.483997   24375340.0\n",
       "8853  259.481995  261.092004  257.229999  259.279999  259.279999   28949880.0\n",
       "8854  258.531998  259.956006  255.901999  258.347995  258.347995   31946440.0\n",
       "8855  256.903998  258.270004  254.368002  256.553995  256.553995   33839760.0\n",
       "8856  255.251996  256.652005  252.557999  254.615997  254.615997   33806880.0\n",
       "\n",
       "[8857 rows x 6 columns]"
      ]
     },
     "execution_count": 5,
     "metadata": {},
     "output_type": "execute_result"
    }
   ],
   "source": [
    "data.rolling(window=5).mean()"
   ]
  },
  {
   "cell_type": "code",
   "execution_count": 6,
   "metadata": {},
   "outputs": [
    {
     "data": {
      "text/html": [
       "<div>\n",
       "<style scoped>\n",
       "    .dataframe tbody tr th:only-of-type {\n",
       "        vertical-align: middle;\n",
       "    }\n",
       "\n",
       "    .dataframe tbody tr th {\n",
       "        vertical-align: top;\n",
       "    }\n",
       "\n",
       "    .dataframe thead th {\n",
       "        text-align: right;\n",
       "    }\n",
       "</style>\n",
       "<table border=\"1\" class=\"dataframe\">\n",
       "  <thead>\n",
       "    <tr style=\"text-align: right;\">\n",
       "      <th></th>\n",
       "      <th>Open</th>\n",
       "      <th>High</th>\n",
       "      <th>Low</th>\n",
       "      <th>Close</th>\n",
       "      <th>Adj Close</th>\n",
       "      <th>Volume</th>\n",
       "    </tr>\n",
       "  </thead>\n",
       "  <tbody>\n",
       "    <tr>\n",
       "      <th>0</th>\n",
       "      <td>NaN</td>\n",
       "      <td>NaN</td>\n",
       "      <td>NaN</td>\n",
       "      <td>NaN</td>\n",
       "      <td>NaN</td>\n",
       "      <td>NaN</td>\n",
       "    </tr>\n",
       "    <tr>\n",
       "      <th>1</th>\n",
       "      <td>NaN</td>\n",
       "      <td>NaN</td>\n",
       "      <td>NaN</td>\n",
       "      <td>NaN</td>\n",
       "      <td>NaN</td>\n",
       "      <td>NaN</td>\n",
       "    </tr>\n",
       "    <tr>\n",
       "      <th>2</th>\n",
       "      <td>NaN</td>\n",
       "      <td>NaN</td>\n",
       "      <td>NaN</td>\n",
       "      <td>NaN</td>\n",
       "      <td>NaN</td>\n",
       "      <td>NaN</td>\n",
       "    </tr>\n",
       "    <tr>\n",
       "      <th>3</th>\n",
       "      <td>NaN</td>\n",
       "      <td>NaN</td>\n",
       "      <td>NaN</td>\n",
       "      <td>NaN</td>\n",
       "      <td>NaN</td>\n",
       "      <td>NaN</td>\n",
       "    </tr>\n",
       "    <tr>\n",
       "      <th>4</th>\n",
       "      <td>0.005476</td>\n",
       "      <td>0.001132</td>\n",
       "      <td>0.004690</td>\n",
       "      <td>0.002073</td>\n",
       "      <td>0.001316</td>\n",
       "      <td>4.121063e+08</td>\n",
       "    </tr>\n",
       "    <tr>\n",
       "      <th>...</th>\n",
       "      <td>...</td>\n",
       "      <td>...</td>\n",
       "      <td>...</td>\n",
       "      <td>...</td>\n",
       "      <td>...</td>\n",
       "      <td>...</td>\n",
       "    </tr>\n",
       "    <tr>\n",
       "      <th>8852</th>\n",
       "      <td>1.650717</td>\n",
       "      <td>0.949818</td>\n",
       "      <td>1.989212</td>\n",
       "      <td>1.922225</td>\n",
       "      <td>1.922225</td>\n",
       "      <td>4.343484e+06</td>\n",
       "    </tr>\n",
       "    <tr>\n",
       "      <th>8853</th>\n",
       "      <td>2.440046</td>\n",
       "      <td>2.626187</td>\n",
       "      <td>3.075869</td>\n",
       "      <td>3.264058</td>\n",
       "      <td>3.264058</td>\n",
       "      <td>1.093403e+07</td>\n",
       "    </tr>\n",
       "    <tr>\n",
       "      <th>8854</th>\n",
       "      <td>2.955894</td>\n",
       "      <td>3.375710</td>\n",
       "      <td>4.853626</td>\n",
       "      <td>4.462456</td>\n",
       "      <td>4.462456</td>\n",
       "      <td>1.180682e+07</td>\n",
       "    </tr>\n",
       "    <tr>\n",
       "      <th>8855</th>\n",
       "      <td>4.964155</td>\n",
       "      <td>4.365580</td>\n",
       "      <td>5.484267</td>\n",
       "      <td>4.841356</td>\n",
       "      <td>4.841356</td>\n",
       "      <td>1.037792e+07</td>\n",
       "    </tr>\n",
       "    <tr>\n",
       "      <th>8856</th>\n",
       "      <td>4.318109</td>\n",
       "      <td>3.908998</td>\n",
       "      <td>4.494841</td>\n",
       "      <td>4.244096</td>\n",
       "      <td>4.244096</td>\n",
       "      <td>1.043378e+07</td>\n",
       "    </tr>\n",
       "  </tbody>\n",
       "</table>\n",
       "<p>8857 rows × 6 columns</p>\n",
       "</div>"
      ],
      "text/plain": [
       "          Open      High       Low     Close  Adj Close        Volume\n",
       "0          NaN       NaN       NaN       NaN        NaN           NaN\n",
       "1          NaN       NaN       NaN       NaN        NaN           NaN\n",
       "2          NaN       NaN       NaN       NaN        NaN           NaN\n",
       "3          NaN       NaN       NaN       NaN        NaN           NaN\n",
       "4     0.005476  0.001132  0.004690  0.002073   0.001316  4.121063e+08\n",
       "...        ...       ...       ...       ...        ...           ...\n",
       "8852  1.650717  0.949818  1.989212  1.922225   1.922225  4.343484e+06\n",
       "8853  2.440046  2.626187  3.075869  3.264058   3.264058  1.093403e+07\n",
       "8854  2.955894  3.375710  4.853626  4.462456   4.462456  1.180682e+07\n",
       "8855  4.964155  4.365580  5.484267  4.841356   4.841356  1.037792e+07\n",
       "8856  4.318109  3.908998  4.494841  4.244096   4.244096  1.043378e+07\n",
       "\n",
       "[8857 rows x 6 columns]"
      ]
     },
     "execution_count": 6,
     "metadata": {},
     "output_type": "execute_result"
    }
   ],
   "source": [
    "data.rolling(window=5).std()"
   ]
  },
  {
   "cell_type": "code",
   "execution_count": 7,
   "metadata": {},
   "outputs": [
    {
     "data": {
      "text/html": [
       "<div>\n",
       "<style scoped>\n",
       "    .dataframe tbody tr th:only-of-type {\n",
       "        vertical-align: middle;\n",
       "    }\n",
       "\n",
       "    .dataframe tbody tr th {\n",
       "        vertical-align: top;\n",
       "    }\n",
       "\n",
       "    .dataframe thead th {\n",
       "        text-align: right;\n",
       "    }\n",
       "</style>\n",
       "<table border=\"1\" class=\"dataframe\">\n",
       "  <thead>\n",
       "    <tr style=\"text-align: right;\">\n",
       "      <th></th>\n",
       "      <th>Date</th>\n",
       "      <th>Open</th>\n",
       "      <th>High</th>\n",
       "      <th>Low</th>\n",
       "      <th>Close</th>\n",
       "      <th>Adj Close</th>\n",
       "      <th>Volume</th>\n",
       "      <th>ewm</th>\n",
       "    </tr>\n",
       "  </thead>\n",
       "  <tbody>\n",
       "    <tr>\n",
       "      <th>0</th>\n",
       "      <td>1986-03-13</td>\n",
       "      <td>0.088542</td>\n",
       "      <td>0.101563</td>\n",
       "      <td>0.088542</td>\n",
       "      <td>0.097222</td>\n",
       "      <td>0.061751</td>\n",
       "      <td>1031788800</td>\n",
       "      <td>0.061751</td>\n",
       "    </tr>\n",
       "    <tr>\n",
       "      <th>1</th>\n",
       "      <td>1986-03-14</td>\n",
       "      <td>0.097222</td>\n",
       "      <td>0.102431</td>\n",
       "      <td>0.097222</td>\n",
       "      <td>0.100694</td>\n",
       "      <td>0.063956</td>\n",
       "      <td>308160000</td>\n",
       "      <td>0.061961</td>\n",
       "    </tr>\n",
       "    <tr>\n",
       "      <th>2</th>\n",
       "      <td>1986-03-17</td>\n",
       "      <td>0.100694</td>\n",
       "      <td>0.103299</td>\n",
       "      <td>0.100694</td>\n",
       "      <td>0.102431</td>\n",
       "      <td>0.065059</td>\n",
       "      <td>133171200</td>\n",
       "      <td>0.062256</td>\n",
       "    </tr>\n",
       "    <tr>\n",
       "      <th>3</th>\n",
       "      <td>1986-03-18</td>\n",
       "      <td>0.102431</td>\n",
       "      <td>0.103299</td>\n",
       "      <td>0.098958</td>\n",
       "      <td>0.099826</td>\n",
       "      <td>0.063405</td>\n",
       "      <td>67766400</td>\n",
       "      <td>0.062365</td>\n",
       "    </tr>\n",
       "    <tr>\n",
       "      <th>4</th>\n",
       "      <td>1986-03-19</td>\n",
       "      <td>0.099826</td>\n",
       "      <td>0.100694</td>\n",
       "      <td>0.097222</td>\n",
       "      <td>0.098090</td>\n",
       "      <td>0.062302</td>\n",
       "      <td>47894400</td>\n",
       "      <td>0.062359</td>\n",
       "    </tr>\n",
       "  </tbody>\n",
       "</table>\n",
       "</div>"
      ],
      "text/plain": [
       "         Date      Open      High       Low     Close  Adj Close      Volume  \\\n",
       "0  1986-03-13  0.088542  0.101563  0.088542  0.097222   0.061751  1031788800   \n",
       "1  1986-03-14  0.097222  0.102431  0.097222  0.100694   0.063956   308160000   \n",
       "2  1986-03-17  0.100694  0.103299  0.100694  0.102431   0.065059   133171200   \n",
       "3  1986-03-18  0.102431  0.103299  0.098958  0.099826   0.063405    67766400   \n",
       "4  1986-03-19  0.099826  0.100694  0.097222  0.098090   0.062302    47894400   \n",
       "\n",
       "        ewm  \n",
       "0  0.061751  \n",
       "1  0.061961  \n",
       "2  0.062256  \n",
       "3  0.062365  \n",
       "4  0.062359  "
      ]
     },
     "execution_count": 7,
     "metadata": {},
     "output_type": "execute_result"
    }
   ],
   "source": [
    "# exponential weighted functions\n",
    "data['ewm'] = data['Adj Close'].ewm(span=20,min_periods=0,adjust=False,ignore_na=False).mean()\n",
    "data.head()"
   ]
  },
  {
   "cell_type": "code",
   "execution_count": 8,
   "metadata": {},
   "outputs": [],
   "source": [
    "data['Date'] = pd.to_datetime(data['Date'] , format = \"%Y-%m-%d\")"
   ]
  },
  {
   "cell_type": "code",
   "execution_count": 9,
   "metadata": {},
   "outputs": [
    {
     "data": {
      "text/html": [
       "<div>\n",
       "<style scoped>\n",
       "    .dataframe tbody tr th:only-of-type {\n",
       "        vertical-align: middle;\n",
       "    }\n",
       "\n",
       "    .dataframe tbody tr th {\n",
       "        vertical-align: top;\n",
       "    }\n",
       "\n",
       "    .dataframe thead th {\n",
       "        text-align: right;\n",
       "    }\n",
       "</style>\n",
       "<table border=\"1\" class=\"dataframe\">\n",
       "  <thead>\n",
       "    <tr style=\"text-align: right;\">\n",
       "      <th></th>\n",
       "      <th>Date</th>\n",
       "      <th>Open</th>\n",
       "      <th>High</th>\n",
       "      <th>Low</th>\n",
       "      <th>Close</th>\n",
       "      <th>Adj Close</th>\n",
       "      <th>Volume</th>\n",
       "      <th>ewm</th>\n",
       "    </tr>\n",
       "  </thead>\n",
       "  <tbody>\n",
       "    <tr>\n",
       "      <th>0</th>\n",
       "      <td>1986-03-13</td>\n",
       "      <td>0.088542</td>\n",
       "      <td>0.101563</td>\n",
       "      <td>0.088542</td>\n",
       "      <td>0.097222</td>\n",
       "      <td>0.061751</td>\n",
       "      <td>1031788800</td>\n",
       "      <td>0.061751</td>\n",
       "    </tr>\n",
       "    <tr>\n",
       "      <th>1</th>\n",
       "      <td>1986-03-14</td>\n",
       "      <td>0.097222</td>\n",
       "      <td>0.102431</td>\n",
       "      <td>0.097222</td>\n",
       "      <td>0.100694</td>\n",
       "      <td>0.063956</td>\n",
       "      <td>308160000</td>\n",
       "      <td>0.061961</td>\n",
       "    </tr>\n",
       "    <tr>\n",
       "      <th>2</th>\n",
       "      <td>1986-03-17</td>\n",
       "      <td>0.100694</td>\n",
       "      <td>0.103299</td>\n",
       "      <td>0.100694</td>\n",
       "      <td>0.102431</td>\n",
       "      <td>0.065059</td>\n",
       "      <td>133171200</td>\n",
       "      <td>0.062256</td>\n",
       "    </tr>\n",
       "    <tr>\n",
       "      <th>3</th>\n",
       "      <td>1986-03-18</td>\n",
       "      <td>0.102431</td>\n",
       "      <td>0.103299</td>\n",
       "      <td>0.098958</td>\n",
       "      <td>0.099826</td>\n",
       "      <td>0.063405</td>\n",
       "      <td>67766400</td>\n",
       "      <td>0.062365</td>\n",
       "    </tr>\n",
       "    <tr>\n",
       "      <th>4</th>\n",
       "      <td>1986-03-19</td>\n",
       "      <td>0.099826</td>\n",
       "      <td>0.100694</td>\n",
       "      <td>0.097222</td>\n",
       "      <td>0.098090</td>\n",
       "      <td>0.062302</td>\n",
       "      <td>47894400</td>\n",
       "      <td>0.062359</td>\n",
       "    </tr>\n",
       "  </tbody>\n",
       "</table>\n",
       "</div>"
      ],
      "text/plain": [
       "        Date      Open      High       Low     Close  Adj Close      Volume  \\\n",
       "0 1986-03-13  0.088542  0.101563  0.088542  0.097222   0.061751  1031788800   \n",
       "1 1986-03-14  0.097222  0.102431  0.097222  0.100694   0.063956   308160000   \n",
       "2 1986-03-17  0.100694  0.103299  0.100694  0.102431   0.065059   133171200   \n",
       "3 1986-03-18  0.102431  0.103299  0.098958  0.099826   0.063405    67766400   \n",
       "4 1986-03-19  0.099826  0.100694  0.097222  0.098090   0.062302    47894400   \n",
       "\n",
       "        ewm  \n",
       "0  0.061751  \n",
       "1  0.061961  \n",
       "2  0.062256  \n",
       "3  0.062365  \n",
       "4  0.062359  "
      ]
     },
     "execution_count": 9,
     "metadata": {},
     "output_type": "execute_result"
    }
   ],
   "source": [
    "data.head()"
   ]
  },
  {
   "cell_type": "code",
   "execution_count": 10,
   "metadata": {},
   "outputs": [],
   "source": [
    "\n",
    "data['Buy_Sell_on_Open'] = np.where(data['Open'].shift(-1) > data['Open'],1,0)\n",
    "data['Buy_Sell'] = np.where(data['Adj Close'].shift(-1) > data['Adj Close'],1,0)\n",
    "data['Returns'] = data['Adj Close'].pct_change()\n",
    "data = data.dropna()\n"
   ]
  },
  {
   "cell_type": "code",
   "execution_count": 11,
   "metadata": {},
   "outputs": [
    {
     "data": {
      "text/html": [
       "<div>\n",
       "<style scoped>\n",
       "    .dataframe tbody tr th:only-of-type {\n",
       "        vertical-align: middle;\n",
       "    }\n",
       "\n",
       "    .dataframe tbody tr th {\n",
       "        vertical-align: top;\n",
       "    }\n",
       "\n",
       "    .dataframe thead th {\n",
       "        text-align: right;\n",
       "    }\n",
       "</style>\n",
       "<table border=\"1\" class=\"dataframe\">\n",
       "  <thead>\n",
       "    <tr style=\"text-align: right;\">\n",
       "      <th></th>\n",
       "      <th>Date</th>\n",
       "      <th>Open</th>\n",
       "      <th>High</th>\n",
       "      <th>Low</th>\n",
       "      <th>Close</th>\n",
       "      <th>Adj Close</th>\n",
       "      <th>Volume</th>\n",
       "      <th>ewm</th>\n",
       "      <th>Buy_Sell_on_Open</th>\n",
       "      <th>Buy_Sell</th>\n",
       "      <th>Returns</th>\n",
       "    </tr>\n",
       "  </thead>\n",
       "  <tbody>\n",
       "    <tr>\n",
       "      <th>1</th>\n",
       "      <td>1986-03-14</td>\n",
       "      <td>0.097222</td>\n",
       "      <td>0.102431</td>\n",
       "      <td>0.097222</td>\n",
       "      <td>0.100694</td>\n",
       "      <td>0.063956</td>\n",
       "      <td>308160000</td>\n",
       "      <td>0.061961</td>\n",
       "      <td>1</td>\n",
       "      <td>1</td>\n",
       "      <td>0.035713</td>\n",
       "    </tr>\n",
       "    <tr>\n",
       "      <th>2</th>\n",
       "      <td>1986-03-17</td>\n",
       "      <td>0.100694</td>\n",
       "      <td>0.103299</td>\n",
       "      <td>0.100694</td>\n",
       "      <td>0.102431</td>\n",
       "      <td>0.065059</td>\n",
       "      <td>133171200</td>\n",
       "      <td>0.062256</td>\n",
       "      <td>1</td>\n",
       "      <td>0</td>\n",
       "      <td>0.017250</td>\n",
       "    </tr>\n",
       "    <tr>\n",
       "      <th>3</th>\n",
       "      <td>1986-03-18</td>\n",
       "      <td>0.102431</td>\n",
       "      <td>0.103299</td>\n",
       "      <td>0.098958</td>\n",
       "      <td>0.099826</td>\n",
       "      <td>0.063405</td>\n",
       "      <td>67766400</td>\n",
       "      <td>0.062365</td>\n",
       "      <td>0</td>\n",
       "      <td>0</td>\n",
       "      <td>-0.025432</td>\n",
       "    </tr>\n",
       "    <tr>\n",
       "      <th>4</th>\n",
       "      <td>1986-03-19</td>\n",
       "      <td>0.099826</td>\n",
       "      <td>0.100694</td>\n",
       "      <td>0.097222</td>\n",
       "      <td>0.098090</td>\n",
       "      <td>0.062302</td>\n",
       "      <td>47894400</td>\n",
       "      <td>0.062359</td>\n",
       "      <td>0</td>\n",
       "      <td>0</td>\n",
       "      <td>-0.017391</td>\n",
       "    </tr>\n",
       "    <tr>\n",
       "      <th>5</th>\n",
       "      <td>1986-03-20</td>\n",
       "      <td>0.098090</td>\n",
       "      <td>0.098090</td>\n",
       "      <td>0.094618</td>\n",
       "      <td>0.095486</td>\n",
       "      <td>0.060648</td>\n",
       "      <td>58435200</td>\n",
       "      <td>0.062196</td>\n",
       "      <td>0</td>\n",
       "      <td>0</td>\n",
       "      <td>-0.026547</td>\n",
       "    </tr>\n",
       "  </tbody>\n",
       "</table>\n",
       "</div>"
      ],
      "text/plain": [
       "        Date      Open      High       Low     Close  Adj Close     Volume  \\\n",
       "1 1986-03-14  0.097222  0.102431  0.097222  0.100694   0.063956  308160000   \n",
       "2 1986-03-17  0.100694  0.103299  0.100694  0.102431   0.065059  133171200   \n",
       "3 1986-03-18  0.102431  0.103299  0.098958  0.099826   0.063405   67766400   \n",
       "4 1986-03-19  0.099826  0.100694  0.097222  0.098090   0.062302   47894400   \n",
       "5 1986-03-20  0.098090  0.098090  0.094618  0.095486   0.060648   58435200   \n",
       "\n",
       "        ewm  Buy_Sell_on_Open  Buy_Sell   Returns  \n",
       "1  0.061961                 1         1  0.035713  \n",
       "2  0.062256                 1         0  0.017250  \n",
       "3  0.062365                 0         0 -0.025432  \n",
       "4  0.062359                 0         0 -0.017391  \n",
       "5  0.062196                 0         0 -0.026547  "
      ]
     },
     "execution_count": 11,
     "metadata": {},
     "output_type": "execute_result"
    }
   ],
   "source": [
    "data.head()"
   ]
  },
  {
   "cell_type": "code",
   "execution_count": 12,
   "metadata": {},
   "outputs": [
    {
     "name": "stderr",
     "output_type": "stream",
     "text": [
      "C:\\Users\\win-10\\anaconda3\\lib\\site-packages\\seaborn\\_decorators.py:36: FutureWarning: Pass the following variables as keyword args: x, y. From version 0.12, the only valid positional argument will be `data`, and passing other arguments without an explicit keyword will result in an error or misinterpretation.\n",
      "  warnings.warn(\n"
     ]
    },
    {
     "data": {
      "text/plain": [
       "<AxesSubplot:ylabel='Adj Close'>"
      ]
     },
     "execution_count": 12,
     "metadata": {},
     "output_type": "execute_result"
    },
    {
     "data": {
      "image/png": "[encoded data removed]",
      "text/plain": [
       "<Figure size 720x576 with 1 Axes>"
      ]
     },
     "metadata": {
      "needs_background": "light"
     },
     "output_type": "display_data"
    }
   ],
   "source": [
    "fig, ax = plt.subplots()\n",
    "fig.set_size_inches(10,8)\n",
    "sns.lineplot(data.index ,data['Adj Close'])"
   ]
  },
  {
   "cell_type": "code",
   "execution_count": 13,
   "metadata": {},
   "outputs": [
    {
     "data": {
      "image/png": "[encoded data removed]",
      "text/plain": [
       "<Figure size 1008x720 with 1 Axes>"
      ]
     },
     "metadata": {
      "needs_background": "light"
     },
     "output_type": "display_data"
    }
   ],
   "source": [
    "# Plot Multi lines\n",
    "fig, ax = plt.subplots()\n",
    "fig.set_size_inches(14, 10)\n",
    "ax = sns.lineplot(data=data[['Open', 'Low', 'High', 'Close']])"
   ]
  },
  {
   "cell_type": "code",
   "execution_count": 14,
   "metadata": {},
   "outputs": [
    {
     "data": {
      "text/plain": [
       "<AxesSubplot:xlabel='Open', ylabel='Close'>"
      ]
     },
     "execution_count": 14,
     "metadata": {},
     "output_type": "execute_result"
    },
    {
     "data": {
      "image/png": "[encoded data removed]",
      "text/plain": [
       "<Figure size 432x288 with 1 Axes>"
      ]
     },
     "metadata": {
      "needs_background": "light"
     },
     "output_type": "display_data"
    }
   ],
   "source": [
    "# Scatterplot\n",
    "data.plot(kind=\"scatter\", x=\"Open\", y=\"Close\")"
   ]
  },
  {
   "cell_type": "code",
   "execution_count": 15,
   "metadata": {},
   "outputs": [
    {
     "name": "stderr",
     "output_type": "stream",
     "text": [
      "C:\\Users\\win-10\\anaconda3\\lib\\site-packages\\seaborn\\axisgrid.py:2015: UserWarning: The `size` parameter has been renamed to `height`; please update your code.\n",
      "  warnings.warn(msg, UserWarning)\n"
     ]
    },
    {
     "data": {
      "text/plain": [
       "<seaborn.axisgrid.JointGrid at 0x28246cbf6d0>"
      ]
     },
     "execution_count": 15,
     "metadata": {},
     "output_type": "execute_result"
    },
    {
     "data": {
      "image/png": "[encoded data removed]",
      "text/plain": [
       "<Figure size 360x360 with 3 Axes>"
      ]
     },
     "metadata": {
      "needs_background": "light"
     },
     "output_type": "display_data"
    }
   ],
   "source": [
    "# bivariate scatterplots and univariate histograms\n",
    "sns.jointplot(x=\"Open\", y=\"Close\", data=data, size=5)"
   ]
  },
  {
   "cell_type": "code",
   "execution_count": 16,
   "metadata": {},
   "outputs": [
    {
     "name": "stderr",
     "output_type": "stream",
     "text": [
      "C:\\Users\\win-10\\anaconda3\\lib\\site-packages\\seaborn\\_decorators.py:36: FutureWarning: Pass the following variables as keyword args: x, y. From version 0.12, the only valid positional argument will be `data`, and passing other arguments without an explicit keyword will result in an error or misinterpretation.\n",
      "  warnings.warn(\n"
     ]
    },
    {
     "data": {
      "text/plain": [
       "<seaborn.axisgrid.JointGrid at 0x282472165e0>"
      ]
     },
     "execution_count": 16,
     "metadata": {},
     "output_type": "execute_result"
    },
    {
     "data": {
      "image/png": "[encoded data removed]",
      "text/plain": [
       "<Figure size 432x432 with 3 Axes>"
      ]
     },
     "metadata": {
      "needs_background": "light"
     },
     "output_type": "display_data"
    }
   ],
   "source": [
    "sns.jointplot(data.loc[:,'Open'], data.loc[:,'Close'], kind=\"reg\", color=\"#ce1414\")"
   ]
  },
  {
   "cell_type": "code",
   "execution_count": 17,
   "metadata": {},
   "outputs": [],
   "source": [
    "# UNDERSTANDING DATA"
   ]
  },
  {
   "cell_type": "code",
   "execution_count": 18,
   "metadata": {},
   "outputs": [
    {
     "name": "stdout",
     "output_type": "stream",
     "text": [
      "Exploratory Data Analysis\n",
      "Stock Data\n",
      "----------------------------------------\n",
      "Data information\n",
      "<class 'pandas.core.frame.DataFrame'>\n",
      "Int64Index: 8856 entries, 1 to 8856\n",
      "Columns: 11 entries, Date to Returns\n",
      "dtypes: datetime64[ns](1), float64(7), int32(2), int64(1)\n",
      "memory usage: 761.1 KB\n",
      "None\n",
      "----------------------------------------\n",
      "<class 'pandas.core.frame.DataFrame'>\n",
      "Int64Index: 8856 entries, 1 to 8856\n",
      "Data columns (total 11 columns):\n",
      " #   Column            Non-Null Count  Dtype         \n",
      "---  ------            --------------  -----         \n",
      " 0   Date              8856 non-null   datetime64[ns]\n",
      " 1   Open              8856 non-null   float64       \n",
      " 2   High              8856 non-null   float64       \n",
      " 3   Low               8856 non-null   float64       \n",
      " 4   Close             8856 non-null   float64       \n",
      " 5   Adj Close         8856 non-null   float64       \n",
      " 6   Volume            8856 non-null   int64         \n",
      " 7   ewm               8856 non-null   float64       \n",
      " 8   Buy_Sell_on_Open  8856 non-null   int32         \n",
      " 9   Buy_Sell          8856 non-null   int32         \n",
      " 10  Returns           8856 non-null   float64       \n",
      "dtypes: datetime64[ns](1), float64(7), int32(2), int64(1)\n",
      "memory usage: 761.1 KB\n",
      "None\n",
      "----------------------------------------\n",
      "Data type:\n",
      "Date                datetime64[ns]\n",
      "Open                       float64\n",
      "High                       float64\n",
      "Low                        float64\n",
      "Close                      float64\n",
      "Adj Close                  float64\n",
      "Volume                       int64\n",
      "ewm                        float64\n",
      "Buy_Sell_on_Open             int32\n",
      "Buy_Sell                     int32\n",
      "Returns                    float64\n",
      "dtype: object\n",
      "----------------------------------------\n",
      "Check unique values without NaN\n",
      "Date                8856\n",
      "Open                4992\n",
      "High                4943\n",
      "Low                 4958\n",
      "Close               5149\n",
      "Adj Close           6762\n",
      "Volume              8676\n",
      "ewm                 8856\n",
      "Buy_Sell_on_Open       2\n",
      "Buy_Sell               2\n",
      "Returns             8533\n",
      "dtype: int64\n",
      "----------------------------------------\n",
      "Data shape:\n",
      "(8856, 11)\n",
      "----------------------------------------\n",
      "Data columns Names:\n",
      "Index(['Date', 'Open', 'High', 'Low', 'Close', 'Adj Close', 'Volume', 'ewm',\n",
      "       'Buy_Sell_on_Open', 'Buy_Sell', 'Returns'],\n",
      "      dtype='object')\n",
      "----------------------------------------\n",
      "Check for NaNs:\n",
      "False\n",
      "----------------------------------------\n",
      "How many NaN it has in each columns?\n",
      "Date                0\n",
      "Open                0\n",
      "High                0\n",
      "Low                 0\n",
      "Close               0\n",
      "Adj Close           0\n",
      "Volume              0\n",
      "ewm                 0\n",
      "Buy_Sell_on_Open    0\n",
      "Buy_Sell            0\n",
      "Returns             0\n",
      "dtype: int64\n",
      "----------------------------------------\n",
      "Data Statistics Summary:\n",
      "              Open         High          Low        Close    Adj Close  \\\n",
      "count  8856.000000  8856.000000  8856.000000  8856.000000  8856.000000   \n",
      "mean     34.835157    35.213319    34.453537    34.844818    29.889904   \n",
      "std      44.061104    44.514392    43.598637    44.081928    44.196460   \n",
      "min       0.090278     0.092014     0.089410     0.090278     0.057340   \n",
      "25%       3.843750     3.877930     3.812500     3.851563     2.446323   \n",
      "50%      26.590000    26.879999    26.290001    26.590000    18.692731   \n",
      "75%      36.737499    37.000000    36.120001    36.667500    27.220440   \n",
      "max     261.660004   263.190002   260.170013   261.970001   261.970001   \n",
      "\n",
      "             Volume          ewm  Buy_Sell_on_Open     Buy_Sell      Returns  \n",
      "count  8.856000e+03  8856.000000       8856.000000  8856.000000  8856.000000  \n",
      "mean   5.942432e+07    29.617811          0.506098     0.505420     0.001170  \n",
      "std    3.717412e+07    43.555613          0.499991     0.499999     0.021443  \n",
      "min    2.304000e+06     0.060865          0.000000     0.000000    -0.301159  \n",
      "25%    3.559710e+07     2.432449          0.000000     0.000000    -0.009211  \n",
      "50%    5.269610e+07    18.618773          1.000000     1.000000     0.000358  \n",
      "75%    7.339100e+07    27.443159          1.000000     1.000000     0.011336  \n",
      "max    7.886880e+08   254.251386          1.000000     1.000000     0.195652  \n"
     ]
    }
   ],
   "source": [
    "print(\"Exploratory Data Analysis\")\n",
    "print(\"Stock Data\")\n",
    "print('-'*40)\n",
    "print(\"Data information\") \n",
    "print(data.info(memory_usage='deep',verbose=False))\n",
    "print('-'*40)\n",
    "print(data.info())\n",
    "print('-'*40)\n",
    "print(\"Data type:\")\n",
    "print(data.dtypes)\n",
    "print('-'*40)\n",
    "print(\"Check unique values without NaN\")\n",
    "print(data.nunique())\n",
    "print('-'*40)\n",
    "print(\"Data shape:\")\n",
    "print(data.shape)\n",
    "print('-'*40)\n",
    "print(\"Data columns Names:\")\n",
    "print(data.columns)\n",
    "print('-'*40)\n",
    "print(\"Check for NaNs:\")\n",
    "print(data.isnull().values.any())\n",
    "print('-'*40)\n",
    "print(\"How many NaN it has in each columns?\")\n",
    "print(data.isnull().sum())\n",
    "print('-'*40)\n",
    "print(\"Data Statistics Summary:\")\n",
    "print(data.describe())"
   ]
  },
  {
   "cell_type": "code",
   "execution_count": 19,
   "metadata": {},
   "outputs": [
    {
     "data": {
      "text/plain": [
       "Date                datetime64[ns]\n",
       "Open                       float64\n",
       "High                       float64\n",
       "Low                        float64\n",
       "Close                      float64\n",
       "Adj Close                  float64\n",
       "Volume                       int64\n",
       "ewm                        float64\n",
       "Buy_Sell_on_Open             int32\n",
       "Buy_Sell                     int32\n",
       "Returns                    float64\n",
       "dtype: object"
      ]
     },
     "execution_count": 19,
     "metadata": {},
     "output_type": "execute_result"
    }
   ],
   "source": [
    "# Check for type of data in each columns\n",
    "data.dtypes"
   ]
  },
  {
   "cell_type": "code",
   "execution_count": 20,
   "metadata": {},
   "outputs": [
    {
     "data": {
      "text/plain": [
       "(8856, 11)"
      ]
     },
     "execution_count": 20,
     "metadata": {},
     "output_type": "execute_result"
    }
   ],
   "source": [
    "data.shape"
   ]
  },
  {
   "cell_type": "code",
   "execution_count": 21,
   "metadata": {},
   "outputs": [
    {
     "name": "stdout",
     "output_type": "stream",
     "text": [
      "              Open         High          Low        Close    Adj Close  \\\n",
      "count  8856.000000  8856.000000  8856.000000  8856.000000  8856.000000   \n",
      "mean     34.835157    35.213319    34.453537    34.844818    29.889904   \n",
      "std      44.061104    44.514392    43.598637    44.081928    44.196460   \n",
      "min       0.090278     0.092014     0.089410     0.090278     0.057340   \n",
      "25%       3.843750     3.877930     3.812500     3.851563     2.446323   \n",
      "50%      26.590000    26.879999    26.290001    26.590000    18.692731   \n",
      "75%      36.737499    37.000000    36.120001    36.667500    27.220440   \n",
      "max     261.660004   263.190002   260.170013   261.970001   261.970001   \n",
      "\n",
      "             Volume          ewm  Buy_Sell_on_Open     Buy_Sell      Returns  \n",
      "count  8.856000e+03  8856.000000       8856.000000  8856.000000  8856.000000  \n",
      "mean   5.942432e+07    29.617811          0.506098     0.505420     0.001170  \n",
      "std    3.717412e+07    43.555613          0.499991     0.499999     0.021443  \n",
      "min    2.304000e+06     0.060865          0.000000     0.000000    -0.301159  \n",
      "25%    3.559710e+07     2.432449          0.000000     0.000000    -0.009211  \n",
      "50%    5.269610e+07    18.618773          1.000000     1.000000     0.000358  \n",
      "75%    7.339100e+07    27.443159          1.000000     1.000000     0.011336  \n",
      "max    7.886880e+08   254.251386          1.000000     1.000000     0.195652  \n"
     ]
    }
   ],
   "source": [
    "print(data.describe())"
   ]
  },
  {
   "cell_type": "code",
   "execution_count": 22,
   "metadata": {},
   "outputs": [
    {
     "name": "stdout",
     "output_type": "stream",
     "text": [
      "Date                0\n",
      "Open                0\n",
      "High                0\n",
      "Low                 0\n",
      "Close               0\n",
      "Adj Close           0\n",
      "Volume              0\n",
      "ewm                 0\n",
      "Buy_Sell_on_Open    0\n",
      "Buy_Sell            0\n",
      "Returns             0\n",
      "dtype: int64\n"
     ]
    }
   ],
   "source": [
    "# Check for NaN and Total of NaN\n",
    "print(data.isnull().sum())"
   ]
  },
  {
   "cell_type": "code",
   "execution_count": 23,
   "metadata": {},
   "outputs": [
    {
     "name": "stdout",
     "output_type": "stream",
     "text": [
      "Date                8856\n",
      "Open                4992\n",
      "High                4943\n",
      "Low                 4958\n",
      "Close               5149\n",
      "Adj Close           6762\n",
      "Volume              8676\n",
      "ewm                 8856\n",
      "Buy_Sell_on_Open       2\n",
      "Buy_Sell               2\n",
      "Returns             8533\n",
      "dtype: int64\n"
     ]
    }
   ],
   "source": [
    "# Check unique values wihtout NaN\n",
    "print(data.nunique())"
   ]
  },
  {
   "cell_type": "code",
   "execution_count": null,
   "metadata": {},
   "outputs": [],
   "source": []
  },
  {
   "cell_type": "code",
   "execution_count": 24,
   "metadata": {},
   "outputs": [
    {
     "data": {
      "image/png": "[encoded data removed]",
      "text/plain": [
       "<Figure size 432x288 with 1 Axes>"
      ]
     },
     "metadata": {
      "needs_background": "light"
     },
     "output_type": "display_data"
    }
   ],
   "source": [
    "plt.hist(data['Adj Close'], bins = 50)\n",
    "plt.xlabel(\"Adj Close\")\n",
    "plt.ylabel(\"Frequency\")\n",
    "plt.show()"
   ]
  },
  {
   "cell_type": "code",
   "execution_count": 25,
   "metadata": {},
   "outputs": [
    {
     "data": {
      "image/png": "[encoded data removed]",
      "text/plain": [
       "<Figure size 576x432 with 2 Axes>"
      ]
     },
     "metadata": {
      "needs_background": "light"
     },
     "output_type": "display_data"
    }
   ],
   "source": [
    "#sns.set_style('White')\n",
    "cmap = sns.diverging_palette(220, 10, as_cmap=True)\n",
    "\n",
    "plt.figure(figsize=(8,6))\n",
    "sns.heatmap(data.corr(), cmap='Blues')\n",
    "plt.show()"
   ]
  },
  {
   "cell_type": "code",
   "execution_count": 26,
   "metadata": {},
   "outputs": [
    {
     "data": {
      "image/png": "[encoded data removed]",
      "text/plain": [
       "<Figure size 576x432 with 2 Axes>"
      ]
     },
     "metadata": {},
     "output_type": "display_data"
    }
   ],
   "source": [
    "sns.set_style('white')\n",
    "cmap = sns.diverging_palette(220, 10, as_cmap=True)\n",
    "\n",
    "plt.figure(figsize=(8, 6))\n",
    "sns.heatmap(data.iloc[:data.shape[0]].corr(), annot = True, cmap = 'Blues')\n",
    "plt.show()"
   ]
  },
  {
   "cell_type": "markdown",
   "metadata": {},
   "source": [
    "REMOVING OUTLIERS"
   ]
  },
  {
   "cell_type": "code",
   "execution_count": 27,
   "metadata": {},
   "outputs": [
    {
     "data": {
      "text/plain": [
       "32.89374923706055"
      ]
     },
     "execution_count": 27,
     "metadata": {},
     "output_type": "execute_result"
    }
   ],
   "source": [
    "iqropen= data['Open'].quantile(0.75) - data['Open'].quantile(0.25) \n",
    "iqropen"
   ]
  },
  {
   "cell_type": "code",
   "execution_count": 28,
   "metadata": {},
   "outputs": [
    {
     "name": "stdout",
     "output_type": "stream",
     "text": [
      "86.07812309265137 -45.49687385559082\n"
     ]
    }
   ],
   "source": [
    "uopen = data['Open'].quantile(0.75)+(iqropen*1.5)\n",
    "lopen = data['Open'].quantile(0.25)-(iqropen*1.5)\n",
    "print(uopen, lopen)"
   ]
  },
  {
   "cell_type": "code",
   "execution_count": 29,
   "metadata": {},
   "outputs": [
    {
     "data": {
      "text/plain": [
       "33.122070491313934"
      ]
     },
     "execution_count": 29,
     "metadata": {},
     "output_type": "execute_result"
    }
   ],
   "source": [
    "iqrhigh = data['High'].quantile(0.75) - data['High'].quantile(0.25) \n",
    "iqrhigh"
   ]
  },
  {
   "cell_type": "code",
   "execution_count": 30,
   "metadata": {},
   "outputs": [
    {
     "name": "stdout",
     "output_type": "stream",
     "text": [
      "86.6831057369709 -45.805176228284836\n"
     ]
    }
   ],
   "source": [
    "uhigh = data['High'].quantile(0.75)+(iqrhigh*1.5)\n",
    "lhigh = data['High'].quantile(0.25)-(iqrhigh*1.5)\n",
    "print(uhigh,lhigh)"
   ]
  },
  {
   "cell_type": "code",
   "execution_count": 31,
   "metadata": {},
   "outputs": [
    {
     "data": {
      "text/plain": [
       "32.81593656539917"
      ]
     },
     "execution_count": 31,
     "metadata": {},
     "output_type": "execute_result"
    }
   ],
   "source": [
    "iqrclose = data['Close'].quantile(0.75) - data['Close'].quantile(0.25) \n",
    "iqrclose"
   ]
  },
  {
   "cell_type": "code",
   "execution_count": 32,
   "metadata": {},
   "outputs": [
    {
     "name": "stdout",
     "output_type": "stream",
     "text": [
      "85.89140439033508 -45.3723418712616\n"
     ]
    }
   ],
   "source": [
    "uclose= data['Close'].quantile(0.75)+(iqrclose*1.5)\n",
    "lclose = data['Close'].quantile(0.25)-(iqrclose*1.5)\n",
    "print(uclose,lclose)"
   ]
  },
  {
   "cell_type": "code",
   "execution_count": 33,
   "metadata": {},
   "outputs": [
    {
     "data": {
      "text/plain": [
       "32.3075008392334"
      ]
     },
     "execution_count": 33,
     "metadata": {},
     "output_type": "execute_result"
    }
   ],
   "source": [
    "iqrlow = data['Low'].quantile(0.75) - data['Low'].quantile(0.25) \n",
    "iqrlow"
   ]
  },
  {
   "cell_type": "code",
   "execution_count": 34,
   "metadata": {},
   "outputs": [
    {
     "name": "stdout",
     "output_type": "stream",
     "text": [
      "84.5812520980835 -44.6487512588501\n"
     ]
    }
   ],
   "source": [
    "ulow = data['Low'].quantile(0.75)+(iqrlow*1.5)\n",
    "llow = data['Low'].quantile(0.25)-(iqrlow*1.5)\n",
    "print(ulow,llow)"
   ]
  },
  {
   "cell_type": "code",
   "execution_count": 35,
   "metadata": {},
   "outputs": [
    {
     "data": {
      "text/plain": [
       "24.77411723136902"
      ]
     },
     "execution_count": 35,
     "metadata": {},
     "output_type": "execute_result"
    }
   ],
   "source": [
    "iqradjclose = data['Adj Close'].quantile(0.75) - data['Adj Close'].quantile(0.25) \n",
    "iqradjclose"
   ]
  },
  {
   "cell_type": "code",
   "execution_count": 36,
   "metadata": {},
   "outputs": [
    {
     "name": "stdout",
     "output_type": "stream",
     "text": [
      "64.3816157579422 -34.714853167533875\n"
     ]
    }
   ],
   "source": [
    "uadjclose = data['Adj Close'].quantile(0.75)+(iqradjclose*1.5)\n",
    "ladjclose = data['Adj Close'].quantile(0.25)-(iqradjclose*1.5)\n",
    "print(uadjclose,ladjclose)"
   ]
  },
  {
   "cell_type": "code",
   "execution_count": 37,
   "metadata": {},
   "outputs": [
    {
     "data": {
      "text/plain": [
       "37793900.0"
      ]
     },
     "execution_count": 37,
     "metadata": {},
     "output_type": "execute_result"
    }
   ],
   "source": [
    "iqrvolume = data['Volume'].quantile(0.75) - data['Volume'].quantile(0.25) \n",
    "iqrvolume"
   ]
  },
  {
   "cell_type": "code",
   "execution_count": 38,
   "metadata": {},
   "outputs": [
    {
     "name": "stdout",
     "output_type": "stream",
     "text": [
      "130081850.0 -21093750.0\n"
     ]
    }
   ],
   "source": [
    "uvolume = data['Volume'].quantile(0.75)+(iqrvolume*1.5)\n",
    "lvolume = data['Volume'].quantile(0.25)-(iqrvolume*1.5)\n",
    "print(uvolume, lvolume)"
   ]
  },
  {
   "cell_type": "code",
   "execution_count": 39,
   "metadata": {},
   "outputs": [],
   "source": [
    "data.loc[data['Open'] >= uopen , 'Open'] = uopen\n",
    "data.loc[data['Close'] >= uclose, 'Close'] = uclose\n",
    "data.loc[data['High'] >= uhigh , 'High'] = uhigh\n",
    "data.loc[data['Low'] >= ulow , 'Low'] = ulow\n",
    "data.loc[data['Adj Close'] >= uadjclose , 'Adj Close'] = uadjclose\n",
    "data.loc[data['Volume'] >= uvolume , 'Volume'] = uvolume"
   ]
  },
  {
   "cell_type": "code",
   "execution_count": 40,
   "metadata": {},
   "outputs": [
    {
     "data": {
      "text/html": [
       "<div>\n",
       "<style scoped>\n",
       "    .dataframe tbody tr th:only-of-type {\n",
       "        vertical-align: middle;\n",
       "    }\n",
       "\n",
       "    .dataframe tbody tr th {\n",
       "        vertical-align: top;\n",
       "    }\n",
       "\n",
       "    .dataframe thead th {\n",
       "        text-align: right;\n",
       "    }\n",
       "</style>\n",
       "<table border=\"1\" class=\"dataframe\">\n",
       "  <thead>\n",
       "    <tr style=\"text-align: right;\">\n",
       "      <th></th>\n",
       "      <th>Date</th>\n",
       "      <th>Open</th>\n",
       "      <th>High</th>\n",
       "      <th>Low</th>\n",
       "      <th>Close</th>\n",
       "      <th>Adj Close</th>\n",
       "      <th>Volume</th>\n",
       "      <th>ewm</th>\n",
       "      <th>Buy_Sell_on_Open</th>\n",
       "      <th>Buy_Sell</th>\n",
       "      <th>Returns</th>\n",
       "    </tr>\n",
       "  </thead>\n",
       "  <tbody>\n",
       "    <tr>\n",
       "      <th>1</th>\n",
       "      <td>1986-03-14</td>\n",
       "      <td>0.097222</td>\n",
       "      <td>0.102431</td>\n",
       "      <td>0.097222</td>\n",
       "      <td>0.100694</td>\n",
       "      <td>0.063956</td>\n",
       "      <td>130081850.0</td>\n",
       "      <td>0.061961</td>\n",
       "      <td>1</td>\n",
       "      <td>1</td>\n",
       "      <td>0.035713</td>\n",
       "    </tr>\n",
       "    <tr>\n",
       "      <th>2</th>\n",
       "      <td>1986-03-17</td>\n",
       "      <td>0.100694</td>\n",
       "      <td>0.103299</td>\n",
       "      <td>0.100694</td>\n",
       "      <td>0.102431</td>\n",
       "      <td>0.065059</td>\n",
       "      <td>130081850.0</td>\n",
       "      <td>0.062256</td>\n",
       "      <td>1</td>\n",
       "      <td>0</td>\n",
       "      <td>0.017250</td>\n",
       "    </tr>\n",
       "    <tr>\n",
       "      <th>3</th>\n",
       "      <td>1986-03-18</td>\n",
       "      <td>0.102431</td>\n",
       "      <td>0.103299</td>\n",
       "      <td>0.098958</td>\n",
       "      <td>0.099826</td>\n",
       "      <td>0.063405</td>\n",
       "      <td>67766400.0</td>\n",
       "      <td>0.062365</td>\n",
       "      <td>0</td>\n",
       "      <td>0</td>\n",
       "      <td>-0.025432</td>\n",
       "    </tr>\n",
       "    <tr>\n",
       "      <th>4</th>\n",
       "      <td>1986-03-19</td>\n",
       "      <td>0.099826</td>\n",
       "      <td>0.100694</td>\n",
       "      <td>0.097222</td>\n",
       "      <td>0.098090</td>\n",
       "      <td>0.062302</td>\n",
       "      <td>47894400.0</td>\n",
       "      <td>0.062359</td>\n",
       "      <td>0</td>\n",
       "      <td>0</td>\n",
       "      <td>-0.017391</td>\n",
       "    </tr>\n",
       "    <tr>\n",
       "      <th>5</th>\n",
       "      <td>1986-03-20</td>\n",
       "      <td>0.098090</td>\n",
       "      <td>0.098090</td>\n",
       "      <td>0.094618</td>\n",
       "      <td>0.095486</td>\n",
       "      <td>0.060648</td>\n",
       "      <td>58435200.0</td>\n",
       "      <td>0.062196</td>\n",
       "      <td>0</td>\n",
       "      <td>0</td>\n",
       "      <td>-0.026547</td>\n",
       "    </tr>\n",
       "    <tr>\n",
       "      <th>...</th>\n",
       "      <td>...</td>\n",
       "      <td>...</td>\n",
       "      <td>...</td>\n",
       "      <td>...</td>\n",
       "      <td>...</td>\n",
       "      <td>...</td>\n",
       "      <td>...</td>\n",
       "      <td>...</td>\n",
       "      <td>...</td>\n",
       "      <td>...</td>\n",
       "      <td>...</td>\n",
       "    </tr>\n",
       "    <tr>\n",
       "      <th>8852</th>\n",
       "      <td>2021-04-27</td>\n",
       "      <td>86.078123</td>\n",
       "      <td>86.683106</td>\n",
       "      <td>84.581252</td>\n",
       "      <td>85.891404</td>\n",
       "      <td>64.381616</td>\n",
       "      <td>31014200.0</td>\n",
       "      <td>254.218901</td>\n",
       "      <td>0</td>\n",
       "      <td>0</td>\n",
       "      <td>0.001606</td>\n",
       "    </tr>\n",
       "    <tr>\n",
       "      <th>8853</th>\n",
       "      <td>2021-04-28</td>\n",
       "      <td>86.078123</td>\n",
       "      <td>86.683106</td>\n",
       "      <td>84.581252</td>\n",
       "      <td>85.891404</td>\n",
       "      <td>64.381616</td>\n",
       "      <td>46903100.0</td>\n",
       "      <td>254.251386</td>\n",
       "      <td>0</td>\n",
       "      <td>0</td>\n",
       "      <td>-0.028286</td>\n",
       "    </tr>\n",
       "    <tr>\n",
       "      <th>8854</th>\n",
       "      <td>2021-04-29</td>\n",
       "      <td>86.078123</td>\n",
       "      <td>86.683106</td>\n",
       "      <td>84.581252</td>\n",
       "      <td>85.891404</td>\n",
       "      <td>64.381616</td>\n",
       "      <td>40589000.0</td>\n",
       "      <td>254.085539</td>\n",
       "      <td>0</td>\n",
       "      <td>0</td>\n",
       "      <td>-0.008053</td>\n",
       "    </tr>\n",
       "    <tr>\n",
       "      <th>8855</th>\n",
       "      <td>2021-04-30</td>\n",
       "      <td>86.078123</td>\n",
       "      <td>86.683106</td>\n",
       "      <td>84.581252</td>\n",
       "      <td>85.891404</td>\n",
       "      <td>64.381616</td>\n",
       "      <td>30929200.0</td>\n",
       "      <td>253.904059</td>\n",
       "      <td>1</td>\n",
       "      <td>0</td>\n",
       "      <td>-0.001307</td>\n",
       "    </tr>\n",
       "    <tr>\n",
       "      <th>8856</th>\n",
       "      <td>2021-05-03</td>\n",
       "      <td>86.078123</td>\n",
       "      <td>86.683106</td>\n",
       "      <td>84.581252</td>\n",
       "      <td>85.891404</td>\n",
       "      <td>64.381616</td>\n",
       "      <td>19598900.0</td>\n",
       "      <td>253.709387</td>\n",
       "      <td>0</td>\n",
       "      <td>0</td>\n",
       "      <td>-0.001269</td>\n",
       "    </tr>\n",
       "  </tbody>\n",
       "</table>\n",
       "<p>8856 rows × 11 columns</p>\n",
       "</div>"
      ],
      "text/plain": [
       "           Date       Open       High        Low      Close  Adj Close  \\\n",
       "1    1986-03-14   0.097222   0.102431   0.097222   0.100694   0.063956   \n",
       "2    1986-03-17   0.100694   0.103299   0.100694   0.102431   0.065059   \n",
       "3    1986-03-18   0.102431   0.103299   0.098958   0.099826   0.063405   \n",
       "4    1986-03-19   0.099826   0.100694   0.097222   0.098090   0.062302   \n",
       "5    1986-03-20   0.098090   0.098090   0.094618   0.095486   0.060648   \n",
       "...         ...        ...        ...        ...        ...        ...   \n",
       "8852 2021-04-27  86.078123  86.683106  84.581252  85.891404  64.381616   \n",
       "8853 2021-04-28  86.078123  86.683106  84.581252  85.891404  64.381616   \n",
       "8854 2021-04-29  86.078123  86.683106  84.581252  85.891404  64.381616   \n",
       "8855 2021-04-30  86.078123  86.683106  84.581252  85.891404  64.381616   \n",
       "8856 2021-05-03  86.078123  86.683106  84.581252  85.891404  64.381616   \n",
       "\n",
       "           Volume         ewm  Buy_Sell_on_Open  Buy_Sell   Returns  \n",
       "1     130081850.0    0.061961                 1         1  0.035713  \n",
       "2     130081850.0    0.062256                 1         0  0.017250  \n",
       "3      67766400.0    0.062365                 0         0 -0.025432  \n",
       "4      47894400.0    0.062359                 0         0 -0.017391  \n",
       "5      58435200.0    0.062196                 0         0 -0.026547  \n",
       "...           ...         ...               ...       ...       ...  \n",
       "8852   31014200.0  254.218901                 0         0  0.001606  \n",
       "8853   46903100.0  254.251386                 0         0 -0.028286  \n",
       "8854   40589000.0  254.085539                 0         0 -0.008053  \n",
       "8855   30929200.0  253.904059                 1         0 -0.001307  \n",
       "8856   19598900.0  253.709387                 0         0 -0.001269  \n",
       "\n",
       "[8856 rows x 11 columns]"
      ]
     },
     "execution_count": 40,
     "metadata": {},
     "output_type": "execute_result"
    }
   ],
   "source": [
    "data"
   ]
  },
  {
   "cell_type": "code",
   "execution_count": 41,
   "metadata": {},
   "outputs": [
    {
     "data": {
      "text/plain": [
       "<AxesSubplot:>"
      ]
     },
     "execution_count": 41,
     "metadata": {},
     "output_type": "execute_result"
    },
    {
     "data": {
      "image/png": "[encoded data removed]",
      "text/plain": [
       "<Figure size 360x360 with 1 Axes>"
      ]
     },
     "metadata": {},
     "output_type": "display_data"
    }
   ],
   "source": [
    "plt.figure(figsize=(5,5))\n",
    "sns.boxplot(data=data[[\"Open\",\"High\",\"Low\",\"Close\",\"Adj Close\"]])"
   ]
  },
  {
   "cell_type": "code",
   "execution_count": 42,
   "metadata": {},
   "outputs": [
    {
     "data": {
      "text/plain": [
       "<AxesSubplot:>"
      ]
     },
     "execution_count": 42,
     "metadata": {},
     "output_type": "execute_result"
    },
    {
     "data": {
      "image/png": "[encoded data removed]",
      "text/plain": [
       "<Figure size 360x360 with 1 Axes>"
      ]
     },
     "metadata": {},
     "output_type": "display_data"
    }
   ],
   "source": [
    "plt.figure(figsize=(5,5))\n",
    "sns.boxplot(data=data[[\"Volume\"]])"
   ]
  },
  {
   "cell_type": "markdown",
   "metadata": {},
   "source": [
    "# MODELLING THE DATASET"
   ]
  },
  {
   "cell_type": "code",
   "execution_count": 43,
   "metadata": {},
   "outputs": [
    {
     "data": {
      "text/html": [
       "<div>\n",
       "<style scoped>\n",
       "    .dataframe tbody tr th:only-of-type {\n",
       "        vertical-align: middle;\n",
       "    }\n",
       "\n",
       "    .dataframe tbody tr th {\n",
       "        vertical-align: top;\n",
       "    }\n",
       "\n",
       "    .dataframe thead th {\n",
       "        text-align: right;\n",
       "    }\n",
       "</style>\n",
       "<table border=\"1\" class=\"dataframe\">\n",
       "  <thead>\n",
       "    <tr style=\"text-align: right;\">\n",
       "      <th></th>\n",
       "      <th>Date</th>\n",
       "      <th>Open</th>\n",
       "      <th>High</th>\n",
       "      <th>Low</th>\n",
       "      <th>Close</th>\n",
       "      <th>Adj Close</th>\n",
       "      <th>Volume</th>\n",
       "      <th>ewm</th>\n",
       "      <th>Buy_Sell_on_Open</th>\n",
       "      <th>Buy_Sell</th>\n",
       "      <th>Returns</th>\n",
       "    </tr>\n",
       "  </thead>\n",
       "  <tbody>\n",
       "    <tr>\n",
       "      <th>1</th>\n",
       "      <td>1986-03-14</td>\n",
       "      <td>0.097222</td>\n",
       "      <td>0.102431</td>\n",
       "      <td>0.097222</td>\n",
       "      <td>0.100694</td>\n",
       "      <td>0.063956</td>\n",
       "      <td>130081850.0</td>\n",
       "      <td>0.061961</td>\n",
       "      <td>1</td>\n",
       "      <td>1</td>\n",
       "      <td>0.035713</td>\n",
       "    </tr>\n",
       "    <tr>\n",
       "      <th>2</th>\n",
       "      <td>1986-03-17</td>\n",
       "      <td>0.100694</td>\n",
       "      <td>0.103299</td>\n",
       "      <td>0.100694</td>\n",
       "      <td>0.102431</td>\n",
       "      <td>0.065059</td>\n",
       "      <td>130081850.0</td>\n",
       "      <td>0.062256</td>\n",
       "      <td>1</td>\n",
       "      <td>0</td>\n",
       "      <td>0.017250</td>\n",
       "    </tr>\n",
       "    <tr>\n",
       "      <th>3</th>\n",
       "      <td>1986-03-18</td>\n",
       "      <td>0.102431</td>\n",
       "      <td>0.103299</td>\n",
       "      <td>0.098958</td>\n",
       "      <td>0.099826</td>\n",
       "      <td>0.063405</td>\n",
       "      <td>67766400.0</td>\n",
       "      <td>0.062365</td>\n",
       "      <td>0</td>\n",
       "      <td>0</td>\n",
       "      <td>-0.025432</td>\n",
       "    </tr>\n",
       "    <tr>\n",
       "      <th>4</th>\n",
       "      <td>1986-03-19</td>\n",
       "      <td>0.099826</td>\n",
       "      <td>0.100694</td>\n",
       "      <td>0.097222</td>\n",
       "      <td>0.098090</td>\n",
       "      <td>0.062302</td>\n",
       "      <td>47894400.0</td>\n",
       "      <td>0.062359</td>\n",
       "      <td>0</td>\n",
       "      <td>0</td>\n",
       "      <td>-0.017391</td>\n",
       "    </tr>\n",
       "    <tr>\n",
       "      <th>5</th>\n",
       "      <td>1986-03-20</td>\n",
       "      <td>0.098090</td>\n",
       "      <td>0.098090</td>\n",
       "      <td>0.094618</td>\n",
       "      <td>0.095486</td>\n",
       "      <td>0.060648</td>\n",
       "      <td>58435200.0</td>\n",
       "      <td>0.062196</td>\n",
       "      <td>0</td>\n",
       "      <td>0</td>\n",
       "      <td>-0.026547</td>\n",
       "    </tr>\n",
       "    <tr>\n",
       "      <th>...</th>\n",
       "      <td>...</td>\n",
       "      <td>...</td>\n",
       "      <td>...</td>\n",
       "      <td>...</td>\n",
       "      <td>...</td>\n",
       "      <td>...</td>\n",
       "      <td>...</td>\n",
       "      <td>...</td>\n",
       "      <td>...</td>\n",
       "      <td>...</td>\n",
       "      <td>...</td>\n",
       "    </tr>\n",
       "    <tr>\n",
       "      <th>8852</th>\n",
       "      <td>2021-04-27</td>\n",
       "      <td>86.078123</td>\n",
       "      <td>86.683106</td>\n",
       "      <td>84.581252</td>\n",
       "      <td>85.891404</td>\n",
       "      <td>64.381616</td>\n",
       "      <td>31014200.0</td>\n",
       "      <td>254.218901</td>\n",
       "      <td>0</td>\n",
       "      <td>0</td>\n",
       "      <td>0.001606</td>\n",
       "    </tr>\n",
       "    <tr>\n",
       "      <th>8853</th>\n",
       "      <td>2021-04-28</td>\n",
       "      <td>86.078123</td>\n",
       "      <td>86.683106</td>\n",
       "      <td>84.581252</td>\n",
       "      <td>85.891404</td>\n",
       "      <td>64.381616</td>\n",
       "      <td>46903100.0</td>\n",
       "      <td>254.251386</td>\n",
       "      <td>0</td>\n",
       "      <td>0</td>\n",
       "      <td>-0.028286</td>\n",
       "    </tr>\n",
       "    <tr>\n",
       "      <th>8854</th>\n",
       "      <td>2021-04-29</td>\n",
       "      <td>86.078123</td>\n",
       "      <td>86.683106</td>\n",
       "      <td>84.581252</td>\n",
       "      <td>85.891404</td>\n",
       "      <td>64.381616</td>\n",
       "      <td>40589000.0</td>\n",
       "      <td>254.085539</td>\n",
       "      <td>0</td>\n",
       "      <td>0</td>\n",
       "      <td>-0.008053</td>\n",
       "    </tr>\n",
       "    <tr>\n",
       "      <th>8855</th>\n",
       "      <td>2021-04-30</td>\n",
       "      <td>86.078123</td>\n",
       "      <td>86.683106</td>\n",
       "      <td>84.581252</td>\n",
       "      <td>85.891404</td>\n",
       "      <td>64.381616</td>\n",
       "      <td>30929200.0</td>\n",
       "      <td>253.904059</td>\n",
       "      <td>1</td>\n",
       "      <td>0</td>\n",
       "      <td>-0.001307</td>\n",
       "    </tr>\n",
       "    <tr>\n",
       "      <th>8856</th>\n",
       "      <td>2021-05-03</td>\n",
       "      <td>86.078123</td>\n",
       "      <td>86.683106</td>\n",
       "      <td>84.581252</td>\n",
       "      <td>85.891404</td>\n",
       "      <td>64.381616</td>\n",
       "      <td>19598900.0</td>\n",
       "      <td>253.709387</td>\n",
       "      <td>0</td>\n",
       "      <td>0</td>\n",
       "      <td>-0.001269</td>\n",
       "    </tr>\n",
       "  </tbody>\n",
       "</table>\n",
       "<p>8856 rows × 11 columns</p>\n",
       "</div>"
      ],
      "text/plain": [
       "           Date       Open       High        Low      Close  Adj Close  \\\n",
       "1    1986-03-14   0.097222   0.102431   0.097222   0.100694   0.063956   \n",
       "2    1986-03-17   0.100694   0.103299   0.100694   0.102431   0.065059   \n",
       "3    1986-03-18   0.102431   0.103299   0.098958   0.099826   0.063405   \n",
       "4    1986-03-19   0.099826   0.100694   0.097222   0.098090   0.062302   \n",
       "5    1986-03-20   0.098090   0.098090   0.094618   0.095486   0.060648   \n",
       "...         ...        ...        ...        ...        ...        ...   \n",
       "8852 2021-04-27  86.078123  86.683106  84.581252  85.891404  64.381616   \n",
       "8853 2021-04-28  86.078123  86.683106  84.581252  85.891404  64.381616   \n",
       "8854 2021-04-29  86.078123  86.683106  84.581252  85.891404  64.381616   \n",
       "8855 2021-04-30  86.078123  86.683106  84.581252  85.891404  64.381616   \n",
       "8856 2021-05-03  86.078123  86.683106  84.581252  85.891404  64.381616   \n",
       "\n",
       "           Volume         ewm  Buy_Sell_on_Open  Buy_Sell   Returns  \n",
       "1     130081850.0    0.061961                 1         1  0.035713  \n",
       "2     130081850.0    0.062256                 1         0  0.017250  \n",
       "3      67766400.0    0.062365                 0         0 -0.025432  \n",
       "4      47894400.0    0.062359                 0         0 -0.017391  \n",
       "5      58435200.0    0.062196                 0         0 -0.026547  \n",
       "...           ...         ...               ...       ...       ...  \n",
       "8852   31014200.0  254.218901                 0         0  0.001606  \n",
       "8853   46903100.0  254.251386                 0         0 -0.028286  \n",
       "8854   40589000.0  254.085539                 0         0 -0.008053  \n",
       "8855   30929200.0  253.904059                 1         0 -0.001307  \n",
       "8856   19598900.0  253.709387                 0         0 -0.001269  \n",
       "\n",
       "[8856 rows x 11 columns]"
      ]
     },
     "execution_count": 43,
     "metadata": {},
     "output_type": "execute_result"
    }
   ],
   "source": [
    "data"
   ]
  },
  {
   "cell_type": "code",
   "execution_count": 44,
   "metadata": {},
   "outputs": [],
   "source": [
    "data.reset_index(inplace = True)"
   ]
  },
  {
   "cell_type": "code",
   "execution_count": 45,
   "metadata": {},
   "outputs": [],
   "source": [
    "data['Year'] = pd.to_datetime(data['Date'] , format = '%Y-%m-%d').dt.year\n",
    "data['Month'] = pd.to_datetime(data['Date'] , format = '%Y-%m-%d').dt.month\n",
    "data['Day'] = pd.to_datetime(data['Date'] , format = '%Y-%m-%d').dt.day"
   ]
  },
  {
   "cell_type": "code",
   "execution_count": 46,
   "metadata": {},
   "outputs": [],
   "source": [
    "data.drop('Date' , axis =1 , inplace = True)"
   ]
  },
  {
   "cell_type": "code",
   "execution_count": 47,
   "metadata": {},
   "outputs": [
    {
     "data": {
      "text/html": [
       "<div>\n",
       "<style scoped>\n",
       "    .dataframe tbody tr th:only-of-type {\n",
       "        vertical-align: middle;\n",
       "    }\n",
       "\n",
       "    .dataframe tbody tr th {\n",
       "        vertical-align: top;\n",
       "    }\n",
       "\n",
       "    .dataframe thead th {\n",
       "        text-align: right;\n",
       "    }\n",
       "</style>\n",
       "<table border=\"1\" class=\"dataframe\">\n",
       "  <thead>\n",
       "    <tr style=\"text-align: right;\">\n",
       "      <th></th>\n",
       "      <th>index</th>\n",
       "      <th>Open</th>\n",
       "      <th>High</th>\n",
       "      <th>Low</th>\n",
       "      <th>Close</th>\n",
       "      <th>Adj Close</th>\n",
       "      <th>Volume</th>\n",
       "      <th>ewm</th>\n",
       "      <th>Buy_Sell_on_Open</th>\n",
       "      <th>Buy_Sell</th>\n",
       "      <th>Returns</th>\n",
       "      <th>Year</th>\n",
       "      <th>Month</th>\n",
       "      <th>Day</th>\n",
       "    </tr>\n",
       "  </thead>\n",
       "  <tbody>\n",
       "    <tr>\n",
       "      <th>count</th>\n",
       "      <td>8856.000000</td>\n",
       "      <td>8856.000000</td>\n",
       "      <td>8856.000000</td>\n",
       "      <td>8856.000000</td>\n",
       "      <td>8856.000000</td>\n",
       "      <td>8856.000000</td>\n",
       "      <td>8.856000e+03</td>\n",
       "      <td>8856.000000</td>\n",
       "      <td>8856.000000</td>\n",
       "      <td>8856.000000</td>\n",
       "      <td>8856.000000</td>\n",
       "      <td>8856.000000</td>\n",
       "      <td>8856.000000</td>\n",
       "      <td>8856.000000</td>\n",
       "    </tr>\n",
       "    <tr>\n",
       "      <th>mean</th>\n",
       "      <td>4428.500000</td>\n",
       "      <td>28.673776</td>\n",
       "      <td>28.960124</td>\n",
       "      <td>28.305047</td>\n",
       "      <td>28.661078</td>\n",
       "      <td>21.739371</td>\n",
       "      <td>5.752432e+07</td>\n",
       "      <td>29.617811</td>\n",
       "      <td>0.506098</td>\n",
       "      <td>0.505420</td>\n",
       "      <td>0.001170</td>\n",
       "      <td>2003.247855</td>\n",
       "      <td>6.528229</td>\n",
       "      <td>15.743790</td>\n",
       "    </tr>\n",
       "    <tr>\n",
       "      <th>std</th>\n",
       "      <td>2556.651325</td>\n",
       "      <td>25.347360</td>\n",
       "      <td>25.529522</td>\n",
       "      <td>24.969810</td>\n",
       "      <td>25.309559</td>\n",
       "      <td>20.155370</td>\n",
       "      <td>2.895568e+07</td>\n",
       "      <td>43.555613</td>\n",
       "      <td>0.499991</td>\n",
       "      <td>0.499999</td>\n",
       "      <td>0.021443</td>\n",
       "      <td>10.152908</td>\n",
       "      <td>3.427674</td>\n",
       "      <td>8.748482</td>\n",
       "    </tr>\n",
       "    <tr>\n",
       "      <th>min</th>\n",
       "      <td>1.000000</td>\n",
       "      <td>0.090278</td>\n",
       "      <td>0.092014</td>\n",
       "      <td>0.089410</td>\n",
       "      <td>0.090278</td>\n",
       "      <td>0.057340</td>\n",
       "      <td>2.304000e+06</td>\n",
       "      <td>0.060865</td>\n",
       "      <td>0.000000</td>\n",
       "      <td>0.000000</td>\n",
       "      <td>-0.301159</td>\n",
       "      <td>1986.000000</td>\n",
       "      <td>1.000000</td>\n",
       "      <td>1.000000</td>\n",
       "    </tr>\n",
       "    <tr>\n",
       "      <th>25%</th>\n",
       "      <td>2214.750000</td>\n",
       "      <td>3.843750</td>\n",
       "      <td>3.877930</td>\n",
       "      <td>3.812500</td>\n",
       "      <td>3.851563</td>\n",
       "      <td>2.446323</td>\n",
       "      <td>3.559710e+07</td>\n",
       "      <td>2.432449</td>\n",
       "      <td>0.000000</td>\n",
       "      <td>0.000000</td>\n",
       "      <td>-0.009211</td>\n",
       "      <td>1994.000000</td>\n",
       "      <td>4.000000</td>\n",
       "      <td>8.000000</td>\n",
       "    </tr>\n",
       "    <tr>\n",
       "      <th>50%</th>\n",
       "      <td>4428.500000</td>\n",
       "      <td>26.590000</td>\n",
       "      <td>26.879999</td>\n",
       "      <td>26.290001</td>\n",
       "      <td>26.590000</td>\n",
       "      <td>18.692731</td>\n",
       "      <td>5.269610e+07</td>\n",
       "      <td>18.618773</td>\n",
       "      <td>1.000000</td>\n",
       "      <td>1.000000</td>\n",
       "      <td>0.000358</td>\n",
       "      <td>2003.000000</td>\n",
       "      <td>7.000000</td>\n",
       "      <td>16.000000</td>\n",
       "    </tr>\n",
       "    <tr>\n",
       "      <th>75%</th>\n",
       "      <td>6642.250000</td>\n",
       "      <td>36.737499</td>\n",
       "      <td>37.000000</td>\n",
       "      <td>36.120001</td>\n",
       "      <td>36.667500</td>\n",
       "      <td>27.220440</td>\n",
       "      <td>7.339100e+07</td>\n",
       "      <td>27.443159</td>\n",
       "      <td>1.000000</td>\n",
       "      <td>1.000000</td>\n",
       "      <td>0.011336</td>\n",
       "      <td>2012.000000</td>\n",
       "      <td>10.000000</td>\n",
       "      <td>23.000000</td>\n",
       "    </tr>\n",
       "    <tr>\n",
       "      <th>max</th>\n",
       "      <td>8856.000000</td>\n",
       "      <td>86.078123</td>\n",
       "      <td>86.683106</td>\n",
       "      <td>84.581252</td>\n",
       "      <td>85.891404</td>\n",
       "      <td>64.381616</td>\n",
       "      <td>1.300818e+08</td>\n",
       "      <td>254.251386</td>\n",
       "      <td>1.000000</td>\n",
       "      <td>1.000000</td>\n",
       "      <td>0.195652</td>\n",
       "      <td>2021.000000</td>\n",
       "      <td>12.000000</td>\n",
       "      <td>31.000000</td>\n",
       "    </tr>\n",
       "  </tbody>\n",
       "</table>\n",
       "</div>"
      ],
      "text/plain": [
       "             index         Open         High          Low        Close  \\\n",
       "count  8856.000000  8856.000000  8856.000000  8856.000000  8856.000000   \n",
       "mean   4428.500000    28.673776    28.960124    28.305047    28.661078   \n",
       "std    2556.651325    25.347360    25.529522    24.969810    25.309559   \n",
       "min       1.000000     0.090278     0.092014     0.089410     0.090278   \n",
       "25%    2214.750000     3.843750     3.877930     3.812500     3.851563   \n",
       "50%    4428.500000    26.590000    26.879999    26.290001    26.590000   \n",
       "75%    6642.250000    36.737499    37.000000    36.120001    36.667500   \n",
       "max    8856.000000    86.078123    86.683106    84.581252    85.891404   \n",
       "\n",
       "         Adj Close        Volume          ewm  Buy_Sell_on_Open     Buy_Sell  \\\n",
       "count  8856.000000  8.856000e+03  8856.000000       8856.000000  8856.000000   \n",
       "mean     21.739371  5.752432e+07    29.617811          0.506098     0.505420   \n",
       "std      20.155370  2.895568e+07    43.555613          0.499991     0.499999   \n",
       "min       0.057340  2.304000e+06     0.060865          0.000000     0.000000   \n",
       "25%       2.446323  3.559710e+07     2.432449          0.000000     0.000000   \n",
       "50%      18.692731  5.269610e+07    18.618773          1.000000     1.000000   \n",
       "75%      27.220440  7.339100e+07    27.443159          1.000000     1.000000   \n",
       "max      64.381616  1.300818e+08   254.251386          1.000000     1.000000   \n",
       "\n",
       "           Returns         Year        Month          Day  \n",
       "count  8856.000000  8856.000000  8856.000000  8856.000000  \n",
       "mean      0.001170  2003.247855     6.528229    15.743790  \n",
       "std       0.021443    10.152908     3.427674     8.748482  \n",
       "min      -0.301159  1986.000000     1.000000     1.000000  \n",
       "25%      -0.009211  1994.000000     4.000000     8.000000  \n",
       "50%       0.000358  2003.000000     7.000000    16.000000  \n",
       "75%       0.011336  2012.000000    10.000000    23.000000  \n",
       "max       0.195652  2021.000000    12.000000    31.000000  "
      ]
     },
     "execution_count": 47,
     "metadata": {},
     "output_type": "execute_result"
    }
   ],
   "source": [
    "data.describe()"
   ]
  },
  {
   "cell_type": "code",
   "execution_count": 48,
   "metadata": {},
   "outputs": [],
   "source": [
    "import pickle"
   ]
  },
  {
   "cell_type": "code",
   "execution_count": 50,
   "metadata": {},
   "outputs": [],
   "source": [
    "pickle_out = open(\"microsoft.pickle\",\"wb\")\n",
    "pickle.dump(data, pickle_out)\n",
    "pickle_out.close()"
   ]
  },
  {
   "cell_type": "code",
   "execution_count": null,
   "metadata": {},
   "outputs": [],
   "source": []
  }
 ],
 "metadata": {
  "kernelspec": {
   "display_name": "Python 3",
   "language": "python",
   "name": "python3"
  },
  "language_info": {
   "codemirror_mode": {
    "name": "ipython",
    "version": 3
   },
   "file_extension": ".py",
   "mimetype": "text/x-python",
   "name": "python",
   "nbconvert_exporter": "python",
   "pygments_lexer": "ipython3",
   "version": "3.8.5"
  }
 },
 "nbformat": 4,
 "nbformat_minor": 4
}
